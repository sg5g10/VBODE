{
 "cells": [
  {
   "cell_type": "code",
   "execution_count": 1,
   "metadata": {},
   "outputs": [],
   "source": [
    "from scipy.integrate import odeint\n",
    "import math \n",
    "import numpy as np\n",
    "import sympy as sym\n",
    "sym.init_printing()\n",
    "import theano \n",
    "from theano import *\n",
    "import matplotlib.pyplot as plt\n",
    "%matplotlib inline\n",
    "THEANO_FLAGS='optimizer=fast_compile'\n"
   ]
  },
  {
   "cell_type": "markdown",
   "metadata": {},
   "source": [
    "# Using `SymPy` for Jacobians\n",
    "\n",
    "So far we have manually coded the analytical expression for the Jacobian evaluations. However, it is desirable to automatically evaluate these quantities. This can be done using automatic differentiation. Unfortunately using reverse mode AD in each ODE solver step is not that efficient. An alternative is to use `Lambdify` from `SymPy` to i) evaluate the Jacobians symbolically and then ii) creating an executable function out of those expression."
   ]
  },
  {
   "cell_type": "markdown",
   "metadata": {},
   "source": [
    "But first let us re-write the ode solver class in a different way as below. This way we can fill in those `jac_x` and `jac_p` functions later on"
   ]
  },
  {
   "cell_type": "code",
   "execution_count": 2,
   "metadata": {},
   "outputs": [],
   "source": [
    "class OdeSolverForwardSens(object):\n",
    "    def __init__(self):\n",
    "        super(OdeSolverForwardSens, self).__init__()\n",
    "\n",
    "    def _rhs(self, y, t, p):\n",
    "        raise NotImplementedError\n",
    "    \n",
    "    def _jac_y(self, y):\n",
    "        raise NotImplementedError\n",
    "    \n",
    "    def _jac_p(self, y):\n",
    "        raise NotImplementedError\n",
    "    \n",
    "    def set_unknown_y0(self, n_ivs, dy0dy0):\n",
    "        self._unknown_y0 = True\n",
    "        self._n_ivs = n_ivs\n",
    "        self._dy0dy0 = dy0dy0\n",
    "    \n",
    "    def solve(self, parameters):\n",
    "        return self._solve(parameters, False)\n",
    "\n",
    "    def solve_with_sensitivities(self, parameters):\n",
    "        return self._solve(parameters, True)\n",
    "\n",
    "    def _solve(self, parameters, sensitivities):\n",
    "\n",
    "        if sensitivities:\n",
    "            self._params = parameters           \n",
    "            \n",
    "            def augmented_ode(y_and_dydp, t, p):\n",
    "                \n",
    "                y = y_and_dydp[0:self._n_states]\n",
    "                dydp = y_and_dydp[self._n_states:].reshape((\n",
    "                    self._n_states, self._n_params))\n",
    "                dydt = self._rhs(y, t, p)\n",
    "                d_dydp_dt = np.matmul(self._jac_x(y, p), dydp) + self._jac_p(y, p)\n",
    "                return np.concatenate((dydt, d_dydp_dt.reshape(-1)))    \n",
    "            \n",
    "            y0 = np.zeros(self._n_states + (self._n_states * self._n_params))\n",
    "            \n",
    "            if self._unknown_y0:\n",
    "                y0[self._dy0dy0[self._n_ivs:]] = 1.\n",
    "                y0[self._dy0dy0[:self._n_ivs]] = parameters[-self._n_ivs:]\n",
    "            else:\n",
    "                y0[0:self._n_states] = self._y0\n",
    "            \n",
    "            result = odeint(augmented_ode, y0, self._times, (parameters,), \n",
    "                            rtol=self._rtol, atol=self._atol)\n",
    "            x = result[:, 0:self._n_states]\n",
    "            dx_dp = result[:, self._n_states:].reshape((\n",
    "                len(times), self._n_states, self._n_params))\n",
    "            return x, dx_dp\n",
    "        else:\n",
    "            return odeint(self._rhs, self._y0, self._times, (parameters,),\n",
    "                            rtol=self._rtol, atol=self._atol)"
   ]
  },
  {
   "cell_type": "markdown",
   "metadata": {},
   "source": [
    "## Now lets define the Lotka Volterra ODE's velocity field, as a normal Python function"
   ]
  },
  {
   "cell_type": "code",
   "execution_count": 3,
   "metadata": {},
   "outputs": [
    {
     "data": {
      "image/png": "[encoded data removed]",
      "text/latex": [
       "$\\displaystyle \\left( p_{0} y_{0} - p_{1} y_{0} y_{1}, \\  - p_{2} y_{1} + p_{3} y_{0} y_{1}\\right)$"
      ],
      "text/plain": [
       "(p₀⋅y₀ - p₁⋅y₀⋅y₁, -p₂⋅y₁ + p₃⋅y₀⋅y₁)"
      ]
     },
     "execution_count": 3,
     "metadata": {},
     "output_type": "execute_result"
    }
   ],
   "source": [
    "def r(y, t, p):\n",
    "    X, Y = y\n",
    "    alpha, beta, gamma, delta, Xt0, Yt0 = p\n",
    "    dX_dt = alpha*X - beta*X*Y\n",
    "    dY_dt = -gamma*Y + delta*X*Y\n",
    "    return dX_dt, dY_dt\n"
   ]
  },
  {
   "cell_type": "markdown",
   "metadata": {},
   "source": [
    "### Now we create the symbolic expressions for the rhs"
   ]
  },
  {
   "cell_type": "code",
   "execution_count": 4,
   "metadata": {},
   "outputs": [
    {
     "data": {
      "image/png": "[encoded data removed]",
      "text/latex": [
       "$\\displaystyle \\left( p_{0} y_{0} - p_{1} y_{0} y_{1}, \\  - p_{2} y_{1} + p_{3} y_{0} y_{1}\\right)$"
      ],
      "text/plain": [
       "(p₀⋅y₀ - p₁⋅y₀⋅y₁, -p₂⋅y₁ + p₃⋅y₀⋅y₁)"
      ]
     },
     "execution_count": 4,
     "metadata": {},
     "output_type": "execute_result"
    }
   ],
   "source": [
    "t = sym.symbols('t')  \n",
    "y, p = sym.symbols('y:2'), sym.symbols('p:6')\n",
    "ydot = r(y, None, p)\n",
    "ydot"
   ]
  },
  {
   "cell_type": "markdown",
   "metadata": {},
   "source": [
    "### And then use `Lambdify` to obtain the numerical jacobian evaluation functions"
   ]
  },
  {
   "cell_type": "code",
   "execution_count": 8,
   "metadata": {},
   "outputs": [],
   "source": [
    "rhs_f = sym.lambdify((y, t, p), ydot)  "
   ]
  },
  {
   "cell_type": "code",
   "execution_count": 9,
   "metadata": {},
   "outputs": [
    {
     "data": {
      "image/png": "[encoded data removed]",
      "text/latex": [
       "$\\displaystyle \\left[\\begin{matrix}p_{0} - p_{1} y_{1} & - p_{1} y_{0}\\\\p_{3} y_{1} & - p_{2} + p_{3} y_{0}\\end{matrix}\\right]$"
      ],
      "text/plain": [
       "⎡p₀ - p₁⋅y₁    -p₁⋅y₀   ⎤\n",
       "⎢                       ⎥\n",
       "⎣  p₃⋅y₁     -p₂ + p₃⋅y₀⎦"
      ]
     },
     "execution_count": 9,
     "metadata": {},
     "output_type": "execute_result"
    }
   ],
   "source": [
    "jac_x = sym.Matrix(ydot).jacobian(y)\n",
    "jac_x"
   ]
  },
  {
   "cell_type": "code",
   "execution_count": 10,
   "metadata": {},
   "outputs": [
    {
     "data": {
      "image/png": "[encoded data removed]",
      "text/latex": [
       "$\\displaystyle \\left[\\begin{matrix}y_{0} & - y_{0} y_{1} & 0 & 0 & 0 & 0\\\\0 & 0 & - y_{1} & y_{0} y_{1} & 0 & 0\\end{matrix}\\right]$"
      ],
      "text/plain": [
       "⎡y₀  -y₀⋅y₁   0     0    0  0⎤\n",
       "⎢                            ⎥\n",
       "⎣0     0     -y₁  y₀⋅y₁  0  0⎦"
      ]
     },
     "execution_count": 10,
     "metadata": {},
     "output_type": "execute_result"
    }
   ],
   "source": [
    "jac_p = sym.Matrix(ydot).jacobian(p)\n",
    "jac_p"
   ]
  },
  {
   "cell_type": "code",
   "execution_count": 11,
   "metadata": {},
   "outputs": [],
   "source": [
    "jac_x_f = sym.lambdify((y, p), jac_x)\n",
    "jac_p_f = sym.lambdify((y, p), jac_p)"
   ]
  },
  {
   "cell_type": "markdown",
   "metadata": {},
   "source": [
    "### Now we extend the ode sensitivity solver class above by passing the `Lambda` for Jacobians"
   ]
  },
  {
   "cell_type": "code",
   "execution_count": 12,
   "metadata": {},
   "outputs": [],
   "source": [
    "class LotkaVolterraModel(OdeSolverForwardSens):\n",
    "    \n",
    "    def __init__(self, _rhs_f, _jac_x_f, _jac_p_f, n_states, n_params, times,\n",
    "                 rtol=1e-5, atol=1e-6, y0=None):\n",
    "        super(LotkaVolterraModel, self).__init__()\n",
    "               \n",
    "        if y0 is not None:\n",
    "            self._y0 = np.array(y0, dtype=float) \n",
    "        self._rhs_f = _rhs_f\n",
    "        self._jac_x_f = _jac_x_f\n",
    "        self._jac_p_f = _jac_p_f\n",
    "        \n",
    "        self._n_states = n_states\n",
    "        self._n_params = n_params\n",
    "        self._times = times\n",
    "        self._T = len(times)\n",
    "        self._rtol = rtol\n",
    "        self._atol = atol  \n",
    "\n",
    "        \n",
    "    def _rhs(self, y, t, p):\n",
    "        return self._rhs_f(y, t, p)\n",
    "\n",
    "    def _jac_x(self, y, p):\n",
    "        return self._jac_x_f(y, p)\n",
    "\n",
    "    def _jac_p(self, y, p):\n",
    "        return self._jac_p_f(y, p)"
   ]
  },
  {
   "cell_type": "markdown",
   "metadata": {},
   "source": [
    "### Initial values\n",
    " The list: `[0,1,6,13]` simply tells the solver the position of the state and sensitivity initial values, that needs to be estimated or fixed. Note that the state's initial values would be estimated.\n"
   ]
  },
  {
   "cell_type": "code",
   "execution_count": 14,
   "metadata": {},
   "outputs": [],
   "source": [
    "times = np.arange(0, 21)\n",
    "lv_ode_model = LotkaVolterraModel(rhs_f, jac_x_f, jac_p_f, 2, 6, times, 1e-6, 1e-5)\n",
    "lv_ode_model.set_unknown_y0(2, [0,1,6,13])"
   ]
  },
  {
   "cell_type": "markdown",
   "metadata": {},
   "source": [
    "## Custom ODE Op\n"
   ]
  },
  {
   "cell_type": "code",
   "execution_count": 15,
   "metadata": {},
   "outputs": [],
   "source": [
    "class ODEGradop(theano.Op):\n",
    "    def __init__(self, numpy_vjp):\n",
    "        self._numpy_vjp = numpy_vjp\n",
    "\n",
    "    def make_node(self, x, g):\n",
    "        x = theano.tensor.as_tensor_variable(x)\n",
    "        g = theano.tensor.as_tensor_variable(g)\n",
    "        node = theano.Apply(self, [x, g], [g.type()])\n",
    "        return node\n",
    "\n",
    "    def perform(self, node, inputs_storage, output_storage):\n",
    "        x = inputs_storage[0]\n",
    "\n",
    "        g = inputs_storage[1]\n",
    "        out = output_storage[0]\n",
    "        out[0] = np.asarray(self._numpy_vjp(x, g))\n",
    "\n",
    "        \n",
    "class ODEop(theano.Op):\n",
    "\n",
    "    def __init__(self, state, numpy_vjp):\n",
    "        self._state = state\n",
    "        self._numpy_vjp = numpy_vjp\n",
    "\n",
    "    def make_node(self, x):\n",
    "        x = theano.tensor.as_tensor_variable(x)\n",
    "\n",
    "        return theano.Apply(self, [x], [x.type()])\n",
    "\n",
    "    def perform(self, node, inputs_storage, output_storage):\n",
    "        x = inputs_storage[0]\n",
    "        out = output_storage[0]\n",
    "        \n",
    "        out[0] = np.asarray(self._state(x))    \n",
    "\n",
    "    def grad(self, inputs, output_grads):\n",
    "        x = inputs[0]\n",
    "        g = output_grads[0]\n",
    "        op = self\n",
    "\n",
    "        grad_op = ODEGradop(self._numpy_vjp)   \n",
    "        grad_op_apply = grad_op(x, g)\n",
    "        \n",
    "        return [grad_op_apply]"
   ]
  },
  {
   "cell_type": "code",
   "execution_count": 16,
   "metadata": {},
   "outputs": [],
   "source": [
    "class solveCached(object):\n",
    "    def __init__(self, ode_model):\n",
    "      \n",
    "        self._ode_model = ode_model    \n",
    "        self._cachedParam = np.zeros(ode_model._n_params)\n",
    "        self._cachedSens = np.zeros((ode_model._T, ode_model._n_states, ode_model._n_params))\n",
    "        self._cachedState = np.zeros((ode_model._T,ode_model._n_states))\n",
    "        \n",
    "    def __call__(self, p):\n",
    "        \n",
    "        if np.all(p==self._cachedParam):\n",
    "            state, sens = self._cachedState, self._cachedSens\n",
    "            \n",
    "        else:\n",
    "            state, sens = self._ode_model.solve_with_sensitivities(p)\n",
    "        \n",
    "        return state, sens, self._ode_model._T, self._ode_model._n_states, self._ode_model._n_params\n",
    "\n",
    "cached_solver=solveCached(lv_ode_model)"
   ]
  },
  {
   "cell_type": "markdown",
   "metadata": {},
   "source": [
    "### The ODE state & VJP evaluation\n",
    "\n",
    "Since we are essentially doing gradient $\\times$ Sensitivity matrix product, we ocassionally call this VSP rather than VJP in some notebooks. Means the same."
   ]
  },
  {
   "cell_type": "code",
   "execution_count": 17,
   "metadata": {},
   "outputs": [],
   "source": [
    "def state(p):\n",
    "    State, Sens, T, k, _ = cached_solver(np.array(p,dtype=np.float64))\n",
    "    cached_solver._cachedState, cached_solver._cachedSens, cached_solver._cachedParam = State, Sens, p\n",
    "    return State.reshape((k*T,))\n",
    "\n",
    "def numpy_vsp(p, grad_output):    \n",
    "    numpy_sens, T, k, d = cached_solver(np.array(p,dtype=np.float64))[1:]\n",
    "    \n",
    "    numpy_sens = numpy_sens.reshape((k*T,d))\n",
    "    return numpy_sens.T.dot(grad_output)"
   ]
  },
  {
   "cell_type": "markdown",
   "metadata": {},
   "source": [
    "## The  Hudson's Bay Company data\n",
    "\n"
   ]
  },
  {
   "cell_type": "code",
   "execution_count": 18,
   "metadata": {},
   "outputs": [
    {
     "data": {
      "image/png": "[encoded data removed]",
      "text/plain": [
       "<Figure size 1080x540 with 1 Axes>"
      ]
     },
     "metadata": {
      "needs_background": "light"
     },
     "output_type": "display_data"
    }
   ],
   "source": [
    "Year = np.arange(1900,1921,1)\n",
    "Lynx = np.array([4.0, 6.1, 9.8, 35.2, 59.4, 41.7, 19.0, 13.0, 8.3, 9.1, 7.4,\n",
    "                8.0, 12.3, 19.5, 45.7, 51.1, 29.7, 15.8, 9.7, 10.1, 8.6])\n",
    "Hare = np.array([30.0, 47.2, 70.2, 77.4, 36.3, 20.6, 18.1, 21.4, 22.0, 25.4, \n",
    "                 27.1, 40.3, 57.0, 76.6, 52.3, 19.5, 11.2, 7.6, 14.6, 16.2, 24.7])\n",
    "plt.figure(figsize=(15, 7.5))\n",
    "plt.plot(Year,Lynx,color='b', lw=4, label='Lynx')\n",
    "plt.plot(Year,Hare,color='g', lw=4, label='Hare')\n",
    "plt.legend(fontsize=15)\n",
    "plt.xlim([1900,1920])\n",
    "plt.xlabel('Year', fontsize=15)\n",
    "plt.ylabel('Concentrations', fontsize=15)\n",
    "plt.xticks(Year,rotation=45)\n",
    "plt.title('Lynx (predator) - Hare (prey): oscillatory dynamics', fontsize=25);"
   ]
  },
  {
   "cell_type": "markdown",
   "metadata": {},
   "source": [
    "\n",
    "## The probablistic model\n"
   ]
  },
  {
   "cell_type": "code",
   "execution_count": null,
   "metadata": {},
   "outputs": [],
   "source": [
    "### Outputs hidden due to anonymity\n",
    "import pymc3 as pm\n",
    "from pymc3.variational.approximations import FullRank\n",
    "theano.config.exception_verbosity= 'high'\n",
    "theano.config.floatX = 'float64'\n",
    "theano.config.compute_test_value = 'ignore'\n",
    "\n",
    "# Define the data matrix\n",
    "Y = np.vstack((Hare,Lynx)).T\n",
    "\n",
    "# Now instantiate the theano custom ODE op\n",
    "my_ODEop = ODEop(state,numpy_vsp)\n",
    "\n",
    "\n",
    "# The probabilistic model\n",
    "with pm.Model() as LV_model:\n",
    "\n",
    "    # Priors for unknown model parameters\n",
    "    alpha =  pm.Gamma('alpha', mu=0.5,sd=1)\n",
    "    beta =  pm.Beta('beta', mu=0.1,sigma=0.1)\n",
    "    gamma =  pm.Gamma('gamma', mu=0.5,sd=1)\n",
    "    delta = pm.Beta('delta', mu=0.1,sigma=0.1)\n",
    "    \n",
    "    xt0 = pm.Lognormal('xto', mu=np.log(10), sd=1)\n",
    "    yt0 = pm.Lognormal('yto', mu=np.log(10), sd=1)\n",
    "    sigma = pm.HalfNormal('sigma', sd=1, shape=2)\n",
    "\n",
    "    all_params = pm.math.stack([alpha,beta,gamma,delta,xt0,yt0],axis=0)\n",
    "    ode_sol = my_ODEop(all_params)\n",
    "    mu = ode_sol.reshape(Y.shape)\n",
    "    \n",
    "\n",
    "    Y_obs = pm.Lognormal('Y_obs', mu=pm.math.log(mu), sd=sigma, observed=Y)\n",
    "    \n",
    "    advi=pm.FullRankADVI()\n",
    "    tracker = pm.callbacks.Tracker(\n",
    "    mean=advi.approx.mean.eval, std=advi.approx.std.eval ) \n",
    "    rho_approx = advi.approx.params[0] \n",
    "    mu_approx = advi.approx.params[1] \n",
    "    rho_approx.set_value(0.1*np.ones(rho_approx.eval().shape))     \n",
    "\n",
    "    q_dist = advi.fit(5000,obj_n_mc=1,\n",
    "                    obj_optimizer=pm.adam(learning_rate=0.01),callbacks=[tracker])  "
   ]
  },
  {
   "cell_type": "code",
   "execution_count": null,
   "metadata": {},
   "outputs": [],
   "source": [
    "trace_vb = q_dist.sample(1000)\n",
    "pm.plot_posterior(trace_vb)"
   ]
  }
 ],
 "metadata": {
  "anaconda-cloud": {},
  "kernelspec": {
   "display_name": "Python 3",
   "language": "python",
   "name": "python3"
  },
  "language_info": {
   "codemirror_mode": {
    "name": "ipython",
    "version": 3
   },
   "file_extension": ".py",
   "mimetype": "text/x-python",
   "name": "python",
   "nbconvert_exporter": "python",
   "pygments_lexer": "ipython3",
   "version": "3.6.9"
  }
 },
 "nbformat": 4,
 "nbformat_minor": 1
}
